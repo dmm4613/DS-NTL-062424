{
 "cells": [
  {
   "cell_type": "code",
   "execution_count": 1,
   "metadata": {},
   "outputs": [],
   "source": [
    "import pandas as pd\n",
    "import numpy as np\n",
    "import matplotlib.pyplot as plt\n",
    "import seaborn as sns\n",
    "\n",
    "from sklearn.ensemble import RandomForestRegressor, RandomForestClassifier\n",
    "from sklearn.model_selection import train_test_split, GridSearchCV\n",
    "from sklearn.metrics import mean_squared_error, r2_score, classification_report, confusion_matrix\n",
    "from sklearn.preprocessing import StandardScaler\n",
    "from sklearn.svm import SVR\n",
    "from sklearn.pipeline import Pipeline\n",
    "from sklearn.decomposition import PCA\n",
    "from sklearn.utils import resample\n",
    "\n",
    "from scipy import stats\n",
    "import statistics as stat"
   ]
  },
  {
   "cell_type": "code",
   "execution_count": 12,
   "metadata": {},
   "outputs": [],
   "source": [
    "# # divide months into 2 groups\n",
    "# high_temp_months = ['jun', 'jul', 'aug']\n",
    "# low_temp_months = ['dec', 'jan', 'feb']\n",
    "\n",
    "# high_temp_data = df[df['month'].isin(high_temp_months)]['area']\n",
    "# low_temp_data = df[df['month'].isin(low_temp_months)]['area']\n",
    "\n",
    "# check normality\n",
    "\n",
    "# stat_high, p_high = shapiro(high_temp_data)\n",
    "# stat_low, p_low = shapiro(low_temp_data)\n",
    "\n",
    "# # decide which test method\n",
    "\n",
    "# if p_high > 0.05 and p_low > 0.05:\n",
    "#     stat, p_value = ttest_ind(high_temp_data, low_temp_data)\n",
    "#     test_used = 'Independent t-test'\n",
    "# else:\n",
    "#     stat, p_value = mannwhitneyu(high_temp_data, low_temp_data)\n",
    "#     test_used = 'Mann-Whitney U test'\n",
    "\n",
    "# print(f\"{test_used}: p-value = {p_value:.3f}\")"
   ]
  },
  {
   "cell_type": "code",
   "execution_count": 13,
   "metadata": {},
   "outputs": [],
   "source": [
    "# ttest_ind\n",
    "\n",
    "# t, p = stats.ttest_ind(series1, series2)\n",
    "\n",
    "# print(f't-value: {t}')\n",
    "# print(f'p-value: {p}')"
   ]
  },
  {
   "cell_type": "code",
   "execution_count": 14,
   "metadata": {},
   "outputs": [],
   "source": [
    "# f_oneway (ANOVA)\n",
    "\n",
    "# f, p = stats.f_oneway(series1, series2, series3, seriesN)\n",
    "\n",
    "# print(f'f-value: {f}')\n",
    "# print(f'p-value: {p}')"
   ]
  },
  {
   "cell_type": "code",
   "execution_count": 15,
   "metadata": {},
   "outputs": [],
   "source": [
    "# function for ANOVA tests\n",
    "\n",
    "def anova(feature, label):\n",
    "    groups = df[feature].unique()\n",
    "    grouped_values = []\n",
    "    for group in groups:\n",
    "        grouped_values.append(df[df[feature]==group][label])\n",
    "    return stats.f_oneway(*grouped_values)\n"
   ]
  },
  {
   "cell_type": "code",
   "execution_count": 16,
   "metadata": {},
   "outputs": [],
   "source": [
    "# reorder categories \n",
    "\n",
    "# # set list order\n",
    "# list_order = ['a', 'b', 'e', 'd', 'l', 'c']\n",
    "\n",
    "# # set 'series_to_order' as categoricals with order\n",
    "# df['series_to_order'] = pd.Categorical(df['series_to_order'], categories=list_order, ordered=True)"
   ]
  },
  {
   "cell_type": "code",
   "execution_count": 2,
   "metadata": {},
   "outputs": [],
   "source": [
    "## monte_carlo_test does not work on scipy 1.5.0\n",
    "\n",
    "# x = np.array([148, 154, 158, 160, 161, 162, 166, 170, 182, 195, 236])\n",
    "\n",
    "# res = stats.shapiro(x)\n",
    "# res.statistic\n",
    "\n",
    "# def statistic(x):\n",
    "#     # Get only the `shapiro` statistic; ignore its p-value\n",
    "#     return stats.shapiro(x).statistic\n",
    "\n",
    "# ref = stats.monte_carlo_test(x, stats.norm.rvs, statistic,\n",
    "#                              alternative='less')\n",
    "\n",
    "# fig, ax = plt.subplots(figsize=(8, 5))\n",
    "# bins = np.linspace(0.65, 1, 50)\n",
    "\n",
    "# def plot(ax):  # we'll reuse this\n",
    "#     ax.hist(ref.null_distribution, density=True, bins=bins)\n",
    "#     ax.set_title(\"Shapiro-Wilk Test Null Distribution \\n\"\n",
    "#                  \"(Monte Carlo Approximation, 11 Observations)\")\n",
    "#     ax.set_xlabel(\"statistic\")\n",
    "#     ax.set_ylabel(\"probability density\")\n",
    "\n",
    "# plot(ax)\n",
    "# plt.show()"
   ]
  },
  {
   "cell_type": "code",
   "execution_count": null,
   "metadata": {},
   "outputs": [],
   "source": [
    "# category_1 = df[df.Series1 == 'first_category_to_test']\n",
    "# category_2 = df[df.Series1 == 'second_category_to_test']\n",
    "# t, p = stats.ttest_ind(category_1['Series2'], category_2['Series2'])\n",
    "\n",
    "# print('t: ' + str(round(t, 2)))\n",
    "# print('p: ' + str(round(p, 2)))\n",
    "\n",
    "# To Compare a bunch of series to check for significance\n",
    "\n",
    "# from statsmodels.stats.multicomp import MultiComparison\n",
    "\n",
    "# mc = MultiComparison(df['Series1'], df['Series2'])\n",
    "# print(mc.tukeyhsd())\n"
   ]
  },
  {
   "cell_type": "code",
   "execution_count": 1,
   "metadata": {},
   "outputs": [],
   "source": [
    "# #Bonferonni adjustment for multiple significance tests (The MultiComparison test is the same. This one is more drawn out/manual)\n",
    "\n",
    "# df = cleaned_df()\n",
    "# groups = df['Series1'].unique()\n",
    "# group_labels = []\n",
    "# for g in groups:\n",
    "#     group_labels.append(df[df['Series1'] == g]['target'])\n",
    "\n",
    "# # Now caclulate the ANOVA results\n",
    "# F, f_p = stats.f_oneway(*group_labels)\n",
    "# \n",
    "#  \n",
    "# e_types = df.Series1.unique()\n",
    "# ttests = []\n",
    "\n",
    "# for i, e in enumerate(e_types):\n",
    "#     for i2, e2 in enumerate(e_types):\n",
    "#         if i2 > i:\n",
    "#             group1 = df[df.Series1 == e]['target']\n",
    "#             group2 = df[df.Series1 == e2]['target']\n",
    "#             t, p = stats.ttest_ind(group1, group2)\n",
    "\n",
    "#             ttests.append([f'{e} - {e2}:', t.round(4), p.round(4)])\n",
    "\n",
    "# textstr = f'          ANOVA\\n'\n",
    "# textstr += f'F: {F}\\n'\n",
    "# textstr += f'p: {f_p}\\n'\n",
    "# textstr += f'        Sig. comparisions (Bonferroni)\\n'\n",
    "\n",
    "# threshold = 0.05 / len(ttests)\n",
    "# for t in ttest:\n",
    "#     if t[2] <= threshold:\n",
    "#         teststr += f'{t[0]} {t[1]} {t[2]}'\n",
    "\n",
    "# g = sns.barplot(x=df['series1'], y=df['target'],\n",
    "#         order=['order', 'your', 'series', 'how', 'you', 'like'])\n",
    "# g.set_xticklabels(g.get_xticklabls(), rotation=25)\n",
    "# plt.text(1,0, textstr, frontsize=12, transform.plt.gcf().transfigure);"
   ]
  }
 ],
 "metadata": {
  "kernelspec": {
   "display_name": "learn-env",
   "language": "python",
   "name": "python3"
  },
  "language_info": {
   "codemirror_mode": {
    "name": "ipython",
    "version": 3
   },
   "file_extension": ".py",
   "mimetype": "text/x-python",
   "name": "python",
   "nbconvert_exporter": "python",
   "pygments_lexer": "ipython3",
   "version": "3.8.5"
  }
 },
 "nbformat": 4,
 "nbformat_minor": 2
}
